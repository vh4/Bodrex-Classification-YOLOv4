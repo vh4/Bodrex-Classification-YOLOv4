{
 "cells": [
  {
   "cell_type": "code",
   "execution_count": 1,
   "id": "35064a47",
   "metadata": {},
   "outputs": [
    {
     "name": "stdout",
     "output_type": "stream",
     "text": [
      "Requirement already satisfied: opencv-python in d:\\deep learning\\classification_obat\\obat_classif\\lib\\site-packages (4.5.3.56)\n",
      "Requirement already satisfied: numpy>=1.17.3 in d:\\deep learning\\classification_obat\\obat_classif\\lib\\site-packages (from opencv-python) (1.21.2)\n"
     ]
    }
   ],
   "source": [
    "#############################################################################################################################\n",
    "\n",
    "\n",
    "                                          PROSESS COLLECTION DATA AND LABELIMG\n",
    "\n",
    "\n",
    "\n",
    "############################################################################################################################"
   ]
  },
  {
   "cell_type": "code",
   "execution_count": null,
   "id": "4b64e678",
   "metadata": {},
   "outputs": [],
   "source": []
  },
  {
   "cell_type": "code",
   "execution_count": 2,
   "id": "d3ab49a2",
   "metadata": {},
   "outputs": [],
   "source": [
    "import cv2\n",
    "import os\n",
    "import time\n",
    "import datetime"
   ]
  },
  {
   "cell_type": "code",
   "execution_count": 3,
   "id": "82019fc9",
   "metadata": {},
   "outputs": [],
   "source": [
    "#penamaan labels\n",
    "nama_labels_folder = ['bodrex', 'flu', 'neralgin']\n",
    "jumlah_pengambilan_gambar = 20"
   ]
  },
  {
   "cell_type": "code",
   "execution_count": 4,
   "id": "719b5570",
   "metadata": {},
   "outputs": [],
   "source": [
    "#setup folder gambar\n",
    "path_image = os.path.join('tensorflow', 'penyimpanan_data_model', 'gambar') #masuk ke folder gambar jika ada\n",
    "if not os.path.exists(path_image): #jika belum ada akan dijalankan\n",
    "    !mkdir {path_image} #dibuatkan folder\n",
    "for x in nama_labels_folder:\n",
    "    path_folder_labels = os.path.join(path_image,x)\n",
    "    if not os.path.exists(path_folder_labels):\n",
    "        !mkdir {path_folder_labels} #dibuatkan folder dengan nama labels diatas"
   ]
  },
  {
   "cell_type": "code",
   "execution_count": null,
   "id": "df83db05",
   "metadata": {},
   "outputs": [
    {
     "name": "stdout",
     "output_type": "stream",
     "text": [
      "sedang mengambil data...... bodrex\n"
     ]
    }
   ],
   "source": [
    "#ambil gambar dari cv2\n",
    "for label in nama_labels_folder:\n",
    "    cap = cv2.VideoCapture(0)\n",
    "    print(\"sedang mengambil data...... {}\".format(label))\n",
    "    for x in range(jumlah_pengambilan_gambar):\n",
    "        ret, frame = cap.read()\n",
    "        nama = os.path.join(path_image,label,label+'.'+'{}.jpg'.format(datetime.datetime.now()))\n",
    "        cv2.imwrite(nama, frame)\n",
    "        cv2.imshow('frame', frame)\n",
    "        time.sleep(2)\n",
    "        \n",
    "        if cv2.waitKey(1) & 0xFF == ord('z'): #0xff ctrl + z\n",
    "            break\n",
    "cap.release()\n",
    "cv2.destroyAllWindows()"
   ]
  },
  {
   "cell_type": "code",
   "execution_count": 7,
   "id": "3ccb9553",
   "metadata": {},
   "outputs": [
    {
     "name": "stdout",
     "output_type": "stream",
     "text": [
      "Requirement already satisfied: pyqt5 in d:\\deep learning\\classification_obat\\obat_classif\\lib\\site-packages (5.15.4)\n",
      "Requirement already satisfied: lxml in d:\\deep learning\\classification_obat\\obat_classif\\lib\\site-packages (4.6.3)\n",
      "Requirement already satisfied: PyQt5-sip<13,>=12.8 in d:\\deep learning\\classification_obat\\obat_classif\\lib\\site-packages (from pyqt5) (12.9.0)\n",
      "Requirement already satisfied: PyQt5-Qt5>=5.15 in d:\\deep learning\\classification_obat\\obat_classif\\lib\\site-packages (from pyqt5) (5.15.2)\n"
     ]
    }
   ],
   "source": [
    "!pip install --upgrade pyqt5 lxml #format support xml untuk xAxis yAxis pada object labeling"
   ]
  },
  {
   "cell_type": "code",
   "execution_count": 9,
   "id": "d43ff1a2",
   "metadata": {},
   "outputs": [
    {
     "name": "stderr",
     "output_type": "stream",
     "text": [
      "Cloning into 'Tensorflow\\labelimg'...\n"
     ]
    }
   ],
   "source": [
    "folder_simpan_software_labelimg = os.path.join('Tensorflow', 'labelimg')\n",
    "if not os.path.exists(folder_simpan_software_labelimg):\n",
    "    !mkdir {folder_simpan_software_labelimg}\n",
    "    !git clone https://github.com/tzutalin/labelImg {folder_simpan_software_labelimg}"
   ]
  },
  {
   "cell_type": "code",
   "execution_count": 16,
   "id": "59d32096",
   "metadata": {},
   "outputs": [],
   "source": [
    "!cd {folder_simpan_software_labelimg} && pyrcc5 -o libs/resources.py resources.qrc #instalisasi build software labeling"
   ]
  },
  {
   "cell_type": "code",
   "execution_count": 17,
   "id": "06712246",
   "metadata": {},
   "outputs": [
    {
     "name": "stdout",
     "output_type": "stream",
     "text": [
      "^C\n"
     ]
    }
   ],
   "source": [
    "!cd {folder_simpan_software_labelimg} && python labelImg.py #start open software labelimg"
   ]
  },
  {
   "cell_type": "code",
   "execution_count": 18,
   "id": "3a94ae8e",
   "metadata": {},
   "outputs": [],
   "source": [
    "train = os.path.join('tensorflow', 'penyimpanan_data_model', 'gambar', 'train')\n",
    "test = os.path.join('tensorflow', 'penyimpanan_data_model', 'gambar', 'test')\n",
    "zip_path = os.path.join('tensorflow', 'penyimpanan_data_model', 'gambar', 'train_test.tar.gz')"
   ]
  },
  {
   "cell_type": "code",
   "execution_count": null,
   "id": "eb1ce18c",
   "metadata": {},
   "outputs": [],
   "source": [
    "#############################################################################################################################\n",
    "\n",
    "\n",
    "                                          PROSESS TRAINING EVALUATE AND RUNNING\n",
    "\n",
    "\n",
    "\n",
    "############################################################################################################################"
   ]
  }
 ],
 "metadata": {
  "kernelspec": {
   "display_name": "tfod",
   "language": "python",
   "name": "tfod"
  },
  "language_info": {
   "codemirror_mode": {
    "name": "ipython",
    "version": 3
   },
   "file_extension": ".py",
   "mimetype": "text/x-python",
   "name": "python",
   "nbconvert_exporter": "python",
   "pygments_lexer": "ipython3",
   "version": "3.8.0"
  }
 },
 "nbformat": 4,
 "nbformat_minor": 5
}
